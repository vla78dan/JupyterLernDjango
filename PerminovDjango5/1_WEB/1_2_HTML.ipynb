{
 "cells": [
  {
   "cell_type": "code",
   "execution_count": null,
   "id": "initial_id",
   "metadata": {
    "collapsed": true
   },
   "outputs": [],
   "source": [
    ""
   ]
  },
  {
   "metadata": {},
   "cell_type": "markdown",
   "source": [
    "Краткое описание структуры HTML\n",
    "Тег\tС содержимым\tОписание\n",
    "<!DOCTYPE html>\tнет\tТег-декларация документа\n",
    "<html>\tда\tКорневой тег\n",
    "<head>\tда\tТег для метаинформанции\n",
    "<body>\tда\tОпределяет тело документа (видимую область)\n"
   ],
   "id": "fca0608861024ad4"
  },
  {
   "metadata": {},
   "cell_type": "markdown",
   "source": [
    "Тег <head>\n",
    "Тег <head> является одним из фундаментальных элементов HTML-документа. Он представляет собой контейнер для метаданных о веб-странице. Метаданные — это информация о данных, а не сами данные. Это, как правило, данные, которые не отображаются непосредственно на странице, но важны для браузера, поисковых систем и других инструментов.\n",
    "\n",
    "Основные характеристики и назначения <head>:\n",
    "\n",
    "Расположение: Тег <head> всегда располагается внутри тега <html> и перед тегом <body>. Он является обязательным элементом HTML-структуры.\n",
    "\n",
    "Содержание: <head> содержит различные метатеги и другие элементы, которые описывают свойства и поведение страницы.\n",
    "\n",
    "Не отображается: Содержимое <head> невидимо для пользователей.\n",
    "\n",
    "Управление страницей: Метаданные в <head> влияют на то, как браузер отображает страницу, как поисковые системы ее индексируют, и как другие программы обрабатывают ее.\n",
    "\n",
    "<meta charset=\"UTF-8\">\n",
    "<meta name=\"description\" content=\"Free Web tutorials\">\n",
    "<meta name=\"keywords\" content=\"HTML,CSS,XML,JavaScript\">\n",
    "<meta name=\"author\" content=\"John Doe\">\n",
    "\n",
    "\n",
    "Внутри <head> можно задавать внутренние стили для документа:\n",
    "\n",
    "<style>\n",
    " header {\n",
    "  text-align: center;\n",
    " }\n",
    "</style>\n",
    "\n",
    "\n",
    "И внешние стили:\n",
    "\n",
    "<link rel=\"stylesheet\" href=\"mystyle.css\">\n",
    "\n",
    "\n",
    "Также внутри <head> обычно указываются скрипты:\n",
    "\n",
    "<script>\n",
    " function myFunction {\n",
    "   document.getElementById(\"demo\").innerHTML = \"Hello JavaScript!\";\n",
    " }\n",
    "</script>\n",
    "\n",
    "\n",
    "Еще один тег - <base> - используется для указания основного URL страницы, относительно которого разрешаются все остальные URL на странице:\n",
    "\n",
    "<base href=\"https://www.w3schools.com/images/\" target=\"_blank\">"
   ],
   "id": "f990e5ceb1ca1b7f"
  },
  {
   "metadata": {},
   "cell_type": "markdown",
   "source": [
    "HTML5 Layout\n",
    "HTML5 предоставляет набор тегов для современной разметки стандартной структуры большинства страниц"
   ],
   "id": "ca9eb704df310f7e"
  },
  {
   "metadata": {},
   "cell_type": "markdown",
   "source": [
    "<body>\n",
    "    <header>\n",
    "        <nav>\n",
    "            Navigation\n",
    "        </nav>\n",
    "    </header>\n",
    "    <section>\n",
    "        <main>\n",
    "            <article>\n",
    "                Article\n",
    "            </article>\n",
    "            <article>\n",
    "                Article\n",
    "            </article>\n",
    "        </main>\n",
    "        <aside>\n",
    "            Aside element\n",
    "        </aside>\n",
    "    </section>\n",
    "    <footer>\n",
    "        Footer\n",
    "    </footer>\n",
    "</body>"
   ],
   "id": "6b7dab76ccc70d69"
  },
  {
   "metadata": {},
   "cell_type": "markdown",
   "source": [
    "Форматирование текста\n",
    "Текст в HTML обычно помещают в заголовках:"
   ],
   "id": "7db57d44d868154c"
  },
  {
   "metadata": {},
   "cell_type": "markdown",
   "source": [
    "Для форматирования используется следующий набор тегов:\n",
    "\n",
    "Тег\tОписание\n",
    "<a>\tСсылка\n",
    "<b>\tЖирный текст\n",
    "<i>\tНаклонный текст\n",
    "<em>\tНаклонный текст(важный)\n",
    "<strong>\tЖирный текст(важный)\n",
    "<mark>\tТекст с выделением или подсветкой\n",
    "<br>\tПереход на новую строку\n",
    "<q></q>\tТекст в кавычках(цитата)\n"
   ],
   "id": "57bac00cc7811140"
  },
  {
   "metadata": {},
   "cell_type": "markdown",
   "source": [
    "Таблицы\n",
    "<table class=\"styled\">\n",
    "  <tr>\n",
    "      <th colspan=\"3\">Spanning 3 Columns</th>\n",
    "  </tr>\n",
    "  <tr>\n",
    "      <td rowspan=\"3\">Table Data</td>\n",
    "      <td>Table Data</td>\n",
    "      <td>Table Data</td>\n",
    "  </tr>\n",
    "  <tr>\n",
    "      <!-- rowspan -->\n",
    "      <td>Table Data</td>\n",
    "      <td>Table Data</td>\n",
    "  </tr>\n",
    "  <tr>\n",
    "      <!-- rowspan -->\n",
    "      <td>Table Data</td>\n",
    "      <td>Table Data</td>\n",
    "  </tr>\n",
    "</table>\n",
    "\n",
    "\n",
    "<table class=\"styled\">\n",
    "  <colgroup>\n",
    "      <col style=\"background-color: blueviolet;\">\n",
    "  </colgroup>\n",
    "  <colgroup>\n",
    "      <col style=\"background-color: #f4e767;\" span=\"2\">\n",
    "  </colgroup>\n",
    "  <thead>\n",
    "      <tr>\n",
    "          <th>First Name</th>\n",
    "          <th>Last Name</th>\n",
    "          <th>Email</th>\n",
    "      </tr>\n",
    "  </thead>\n",
    "  <tbody>\n",
    "      <tr>\n",
    "          <td>John</td>\n",
    "          <td>Doe</td>\n",
    "          <td>Johnny.doe@gmail.com</td>\n",
    "      </tr>\n",
    "      <tr>\n",
    "          <td>Jane</td>\n",
    "          <td>Doe</td>\n",
    "          <td>i_heart_johnny@gmail.com</td>\n",
    "      </tr>\n",
    "  </tbody>\n",
    "</table>"
   ],
   "id": "676535e831c47614"
  },
  {
   "metadata": {},
   "cell_type": "markdown",
   "source": [
    "Более детальное описание структуры HTML\n",
    "Тег\tСамые важные атрибуты\tОписание\n",
    "<h1> - <h6>\t-\tЗаголовки разных уровней (heading)\n",
    "<p>\tstyle (CSS стиль), title (заголовок параграфа)\tПараграф (paragraph)\n",
    "<pre>\tstyle (CSS стиль), title (заголовок параграфа)\tПредварительно отформатированный текст (preformatted text)\n",
    "<a>\thref (url, куда ссылается), download (для скачивания файла), title (всплывающий текст при наведении курсора на ссылку)\tСсылка\n",
    "<img>\n",
    "src (url изображения), alt (альтернатива изображению, напр. текстовое описание), width и heigth (ширина и высота в пикселях)\n",
    "\n",
    "Изображение (image)\n",
    "<button>\t-\tКнопка\n",
    "<ul>\t-\tМаркированный список (unordered list)\n",
    "<ol>\t-\tНумерованный список (ordered list)\n",
    "<li>\t-\tЭлемент списка (list item)\n",
    "<br>\t-\tПереход на новую строку (break row)\n",
    "<hr>\t-\tГоризонтальная линия (horizontal rule)\n"
   ],
   "id": "eb6dba80a23c9add"
  }
 ],
 "metadata": {
  "kernelspec": {
   "display_name": "Python 3",
   "language": "python",
   "name": "python3"
  },
  "language_info": {
   "codemirror_mode": {
    "name": "ipython",
    "version": 2
   },
   "file_extension": ".py",
   "mimetype": "text/x-python",
   "name": "python",
   "nbconvert_exporter": "python",
   "pygments_lexer": "ipython2",
   "version": "2.7.6"
  }
 },
 "nbformat": 4,
 "nbformat_minor": 5
}
