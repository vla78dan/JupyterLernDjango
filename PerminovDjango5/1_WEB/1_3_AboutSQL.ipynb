{
 "cells": [
  {
   "metadata": {
    "ExecuteTime": {
     "end_time": "2025-10-26T13:51:23.796587Z",
     "start_time": "2025-10-26T13:51:14.906211Z"
    }
   },
   "cell_type": "code",
   "source": "!pip install ipython-sql\n",
   "id": "f6a2b928f4e7d7e2",
   "outputs": [
    {
     "name": "stdout",
     "output_type": "stream",
     "text": [
      "Collecting ipython-sql\n",
      "  Downloading ipython_sql-0.5.0-py3-none-any.whl.metadata (17 kB)\n",
      "Collecting prettytable (from ipython-sql)\n",
      "  Downloading prettytable-3.16.0-py3-none-any.whl.metadata (33 kB)\n",
      "Requirement already satisfied: ipython in f:\\pydjango\\jupyterlerndjango\\.venv\\lib\\site-packages (from ipython-sql) (9.6.0)\n",
      "Collecting sqlalchemy>=2.0 (from ipython-sql)\n",
      "  Downloading sqlalchemy-2.0.44-cp312-cp312-win_amd64.whl.metadata (9.8 kB)\n",
      "Collecting sqlparse (from ipython-sql)\n",
      "  Using cached sqlparse-0.5.3-py3-none-any.whl.metadata (3.9 kB)\n",
      "Requirement already satisfied: six in f:\\pydjango\\jupyterlerndjango\\.venv\\lib\\site-packages (from ipython-sql) (1.17.0)\n",
      "Collecting ipython-genutils (from ipython-sql)\n",
      "  Downloading ipython_genutils-0.2.0-py2.py3-none-any.whl.metadata (755 bytes)\n",
      "Collecting greenlet>=1 (from sqlalchemy>=2.0->ipython-sql)\n",
      "  Using cached greenlet-3.2.4-cp312-cp312-win_amd64.whl.metadata (4.2 kB)\n",
      "Requirement already satisfied: typing-extensions>=4.6.0 in f:\\pydjango\\jupyterlerndjango\\.venv\\lib\\site-packages (from sqlalchemy>=2.0->ipython-sql) (4.15.0)\n",
      "Requirement already satisfied: colorama in f:\\pydjango\\jupyterlerndjango\\.venv\\lib\\site-packages (from ipython->ipython-sql) (0.4.6)\n",
      "Requirement already satisfied: decorator in f:\\pydjango\\jupyterlerndjango\\.venv\\lib\\site-packages (from ipython->ipython-sql) (5.2.1)\n",
      "Requirement already satisfied: ipython-pygments-lexers in f:\\pydjango\\jupyterlerndjango\\.venv\\lib\\site-packages (from ipython->ipython-sql) (1.1.1)\n",
      "Requirement already satisfied: jedi>=0.16 in f:\\pydjango\\jupyterlerndjango\\.venv\\lib\\site-packages (from ipython->ipython-sql) (0.19.2)\n",
      "Requirement already satisfied: matplotlib-inline in f:\\pydjango\\jupyterlerndjango\\.venv\\lib\\site-packages (from ipython->ipython-sql) (0.1.7)\n",
      "Requirement already satisfied: prompt_toolkit<3.1.0,>=3.0.41 in f:\\pydjango\\jupyterlerndjango\\.venv\\lib\\site-packages (from ipython->ipython-sql) (3.0.52)\n",
      "Requirement already satisfied: pygments>=2.4.0 in f:\\pydjango\\jupyterlerndjango\\.venv\\lib\\site-packages (from ipython->ipython-sql) (2.19.2)\n",
      "Requirement already satisfied: stack_data in f:\\pydjango\\jupyterlerndjango\\.venv\\lib\\site-packages (from ipython->ipython-sql) (0.6.3)\n",
      "Requirement already satisfied: traitlets>=5.13.0 in f:\\pydjango\\jupyterlerndjango\\.venv\\lib\\site-packages (from ipython->ipython-sql) (5.14.3)\n",
      "Requirement already satisfied: wcwidth in f:\\pydjango\\jupyterlerndjango\\.venv\\lib\\site-packages (from prompt_toolkit<3.1.0,>=3.0.41->ipython->ipython-sql) (0.2.14)\n",
      "Requirement already satisfied: parso<0.9.0,>=0.8.4 in f:\\pydjango\\jupyterlerndjango\\.venv\\lib\\site-packages (from jedi>=0.16->ipython->ipython-sql) (0.8.5)\n",
      "Requirement already satisfied: executing>=1.2.0 in f:\\pydjango\\jupyterlerndjango\\.venv\\lib\\site-packages (from stack_data->ipython->ipython-sql) (2.2.1)\n",
      "Requirement already satisfied: asttokens>=2.1.0 in f:\\pydjango\\jupyterlerndjango\\.venv\\lib\\site-packages (from stack_data->ipython->ipython-sql) (3.0.0)\n",
      "Requirement already satisfied: pure-eval in f:\\pydjango\\jupyterlerndjango\\.venv\\lib\\site-packages (from stack_data->ipython->ipython-sql) (0.2.3)\n",
      "Downloading ipython_sql-0.5.0-py3-none-any.whl (20 kB)\n",
      "Downloading sqlalchemy-2.0.44-cp312-cp312-win_amd64.whl (2.1 MB)\n",
      "   ---------------------------------------- 0.0/2.1 MB ? eta -:--:--\n",
      "   ---------------------------------------- 0.0/2.1 MB ? eta -:--:--\n",
      "   ---- ----------------------------------- 0.3/2.1 MB ? eta -:--:--\n",
      "   ---- ----------------------------------- 0.3/2.1 MB ? eta -:--:--\n",
      "   --------- ------------------------------ 0.5/2.1 MB 762.0 kB/s eta 0:00:03\n",
      "   -------------- ------------------------- 0.8/2.1 MB 838.9 kB/s eta 0:00:02\n",
      "   ------------------- -------------------- 1.0/2.1 MB 1.0 MB/s eta 0:00:02\n",
      "   ------------------------ --------------- 1.3/2.1 MB 1.1 MB/s eta 0:00:01\n",
      "   ----------------------------- ---------- 1.6/2.1 MB 1.2 MB/s eta 0:00:01\n",
      "   ---------------------------------------  2.1/2.1 MB 1.2 MB/s eta 0:00:01\n",
      "   ---------------------------------------- 2.1/2.1 MB 1.2 MB/s eta 0:00:00\n",
      "Using cached greenlet-3.2.4-cp312-cp312-win_amd64.whl (299 kB)\n",
      "Downloading ipython_genutils-0.2.0-py2.py3-none-any.whl (26 kB)\n",
      "Downloading prettytable-3.16.0-py3-none-any.whl (33 kB)\n",
      "Using cached sqlparse-0.5.3-py3-none-any.whl (44 kB)\n",
      "Installing collected packages: ipython-genutils, sqlparse, prettytable, greenlet, sqlalchemy, ipython-sql\n",
      "\n",
      "   -------------------- ------------------- 3/6 [greenlet]\n",
      "   -------------------------- ------------- 4/6 [sqlalchemy]\n",
      "   -------------------------- ------------- 4/6 [sqlalchemy]\n",
      "   -------------------------- ------------- 4/6 [sqlalchemy]\n",
      "   -------------------------- ------------- 4/6 [sqlalchemy]\n",
      "   -------------------------- ------------- 4/6 [sqlalchemy]\n",
      "   -------------------------- ------------- 4/6 [sqlalchemy]\n",
      "   -------------------------- ------------- 4/6 [sqlalchemy]\n",
      "   -------------------------- ------------- 4/6 [sqlalchemy]\n",
      "   ---------------------------------------- 6/6 [ipython-sql]\n",
      "\n",
      "Successfully installed greenlet-3.2.4 ipython-genutils-0.2.0 ipython-sql-0.5.0 prettytable-3.16.0 sqlalchemy-2.0.44 sqlparse-0.5.3\n"
     ]
    },
    {
     "name": "stderr",
     "output_type": "stream",
     "text": [
      "\n",
      "[notice] A new release of pip is available: 25.1.1 -> 25.2\n",
      "[notice] To update, run: python.exe -m pip install --upgrade pip\n"
     ]
    }
   ],
   "execution_count": 1
  },
  {
   "metadata": {
    "ExecuteTime": {
     "end_time": "2025-10-26T13:52:38.974760Z",
     "start_time": "2025-10-26T13:52:38.135658Z"
    }
   },
   "cell_type": "code",
   "source": "%load_ext sql\n",
   "id": "f3460988770ed0b2",
   "outputs": [],
   "execution_count": 2
  },
  {
   "metadata": {
    "ExecuteTime": {
     "end_time": "2025-10-26T13:53:26.612328Z",
     "start_time": "2025-10-26T13:53:26.599262Z"
    }
   },
   "cell_type": "code",
   "source": "%sql sqlite:///example.bd",
   "id": "60fca02dc830fca6",
   "outputs": [],
   "execution_count": 3
  },
  {
   "metadata": {
    "ExecuteTime": {
     "end_time": "2025-10-26T13:54:31.311256Z",
     "start_time": "2025-10-26T13:54:31.302823Z"
    }
   },
   "cell_type": "code",
   "source": "%sql SELECT * FROM your_table",
   "id": "1dd0c8e2f9bb1b1c",
   "outputs": [
    {
     "name": "stdout",
     "output_type": "stream",
     "text": [
      " * sqlite:///example.bd\n",
      "(sqlite3.OperationalError) no such table: your_table\n",
      "[SQL: SELECT * FROM your_table]\n",
      "(Background on this error at: https://sqlalche.me/e/20/e3q8)\n"
     ]
    }
   ],
   "execution_count": 4
  },
  {
   "metadata": {},
   "cell_type": "markdown",
   "source": "база данных (БД) — это организованный способ хранения и управления информацией",
   "id": "5cd8bc05366be8fc"
  },
  {
   "metadata": {},
   "cell_type": "markdown",
   "source": [
    "Реляционные базы данных (Relational Database Management Systems, RDBMS):\n",
    "\n",
    "Хранят данные в связанных таблицах.\n",
    "Используют структурированный язык запросов SQL для взаимодействия.\n",
    "Примеры: PostgreSQL, MySQL, SQL Server, Oracle, DB2.\n",
    "Преимущества: Высокая производительность для сложных запросов, надежность, поддержка ACID-свойств (Atomicity, Consistency, Isolation, Durability), большой выбор инструментов.\n",
    "Недостатки: Более сложная структура данных, возможные проблемы при масштабировании, труднее хранить данные с сложной структурой."
   ],
   "id": "2acb556e8258e128"
  },
  {
   "metadata": {},
   "cell_type": "markdown",
   "source": [
    "Не реляционные базы данных (NoSQL databases):\n",
    "\n",
    "Не используют строгую структуру таблиц, как RDBMS.\n",
    "Предлагают гибкость в структуре данных и хранении данных, способные к масштабированию.\n",
    "Виды NoSQL баз данных:\n",
    "Документные базы данных: Хранят данные в формате JSON или XML, позволяя хранить сложные структуры данных. Примеры: MongoDB, CouchDB.\n",
    "Ключ-значение базы данных: Хранят данные в виде пар «ключ-значение», идеальны для хранения большого количества данных. Примеры: Redis, Memcached.\n",
    "Графовые базы данных: Представляют данные в виде узлов и ребер, позволяя эффективнее хранить и извлекать данные, связанные друг с другом. Примеры: Neo4j, Amazon Neptune.\n",
    "Базы данных колонок: Данные хранятся в отдельных колонках, а не в строках, что подходит для анализа больших массивов данных. Примеры: Cassandra, Bigtable.\n",
    "Преимущества: Гибкость, масштабируемость, высокая производительность для определенных типов запросов, удобны для работы с неструктурированными данными.\n",
    "Недостатки: Не все запросы можно выполнить быстро, менее стандартизированные, часто не поддерживают ACID-свойства (но есть NoSQL базы данных, поддерживающие ACID), могут иметь трудности с сложной транзакционной логикой."
   ],
   "id": "4ec2c85451501999"
  },
  {
   "metadata": {},
   "cell_type": "markdown",
   "source": "SQL — это стандартный язык для работы с реляционными базами данных. Он позволяет создавать, изменять, удалять и запрашивать данные в этих базах. SQL — это декларативный язык. Это означает, что вы описываете что вам нужно получить из базы данных, а не как это нужно сделать.",
   "id": "4d274fea3fcaae54"
  },
  {
   "metadata": {},
   "cell_type": "markdown",
   "source": [
    "Строки (Rows) / Записи (Records): Каждая строка представляет собой отдельную запись данных. Например, в таблице “Пользователи” каждая строка может содержать информацию об одном пользователе.\n",
    "Столбцы (Columns) / Поля (Fields): Каждый столбец представляет собой атрибут или характеристику данных. Например, в таблице “Пользователи” столбцы могут быть “ID”, “Имя”, “Фамилия”, “Email”."
   ],
   "id": "8374568a6698c716"
  },
  {
   "metadata": {},
   "cell_type": "markdown",
   "source": [
    "Основные операции с таблицами:\n",
    "\n",
    "Создание таблицы (CREATE TABLE): Позволяет создавать новые таблицы с определенными столбцами и типами данных.\n",
    "Удаление таблицы (DROP TABLE): Удаляет существующую таблицу из базы данных.\n",
    "Изменение таблицы (ALTER TABLE): Изменяет структуру таблицы (например, добавляет или удаляет столбцы).\n",
    "Заполнение таблицы данными (INSERT INTO): Добавляет новые строки в таблицу.\n",
    "Чтение данных из таблицы (SELECT): Запрашивает данные из таблицы.\n",
    "Изменение данных в таблице (UPDATE): Изменяет существующие строки в таблице.\n",
    "Удаление данных из таблицы (DELETE): Удаляет строки из таблицы."
   ],
   "id": "9587e07ded9bb43f"
  },
  {
   "metadata": {},
   "cell_type": "markdown",
   "source": "",
   "id": "fae2c953bd674470"
  },
  {
   "metadata": {},
   "cell_type": "markdown",
   "source": "Создание таблицы:",
   "id": "264d358ca4641a5"
  },
  {
   "metadata": {
    "ExecuteTime": {
     "end_time": "2025-10-26T13:57:51.585325Z",
     "start_time": "2025-10-26T13:57:51.582162Z"
    }
   },
   "cell_type": "code",
   "source": [
    "%%sql\n",
    "CREATE TABLE users (\n",
    "    id INT PRIMARY KEY,\n",
    "    name VARCHAR(255),\n",
    "    email VARCHAR(255),\n",
    "    birth_date DATE\n",
    ");"
   ],
   "id": "e03c03092c79ee5e",
   "outputs": [
    {
     "name": "stderr",
     "output_type": "stream",
     "text": [
      "UsageError: Cell magic `%%sql` not found.\n"
     ]
    }
   ],
   "execution_count": 2
  },
  {
   "metadata": {},
   "cell_type": "markdown",
   "source": [
    "CREATE TABLE users: Команда создает таблицу с именем users.\n",
    "id INT PRIMARY KEY: Создается столбец id типа целого числа (INT), который является первичным ключом (PRIMARY KEY) (уникальным идентификатором для каждой строки).\n",
    "name VARCHAR(255): Создается столбец name для хранения строк (максимальная длина 255 символов).\n",
    "email VARCHAR(255): Создается столбец email для хранения электронных адресов.\n",
    "birth_date DATE: Создается столбец birth_date для хранения дат."
   ],
   "id": "37d050092caa29ed"
  },
  {
   "metadata": {},
   "cell_type": "markdown",
   "source": "Вставка данных:",
   "id": "1fc8f34a253dfb38"
  },
  {
   "metadata": {},
   "cell_type": "code",
   "outputs": [],
   "execution_count": null,
   "source": [
    "%%sql\n",
    "INSERT INTO users (id, name, email, birth_date)\n",
    "VALUES\n",
    "    (1, 'Ivan Ivanov', 'ivan@example.com', '1978-05-15'),\n",
    "    (1, 'Petr Petrov', 'petr@example.com', '1979-05-15'),\n"
   ],
   "id": "e3d0608959dd0dd5"
  },
  {
   "metadata": {},
   "cell_type": "markdown",
   "source": [
    "INSERT INTO users: Команда добавляет данные в таблицу users.\n",
    "VALUES (...): Указываются значения, которые должны быть вставлены. Каждая группа значений в круглых скобках представляет новую строку.\n",
    "Данные для каждого столбца должны соответствовать типу столбца."
   ],
   "id": "84055b6f7f84c875"
  },
  {
   "metadata": {},
   "cell_type": "markdown",
   "source": "Выборка данных:",
   "id": "2ac3bc63df09a4b6"
  },
  {
   "metadata": {},
   "cell_type": "code",
   "outputs": [],
   "execution_count": null,
   "source": [
    "%%sql\n",
    "SELECT id, name, email FROM users;"
   ],
   "id": "8b974cf05c74de"
  },
  {
   "metadata": {},
   "cell_type": "markdown",
   "source": [
    "SELECT id, name, email: Команда выбирает столбцы id, name и email из таблицы users.\n",
    "FROM users: Указывает, из какой таблицы нужно выбирать данные.\n",
    "Эта команда вернёт все строки, но только столбцы id, name и email.\n"
   ],
   "id": "263abe90b27bff33"
  },
  {
   "metadata": {},
   "cell_type": "markdown",
   "source": "Выборка с условием:",
   "id": "1eb43f34ffd103de"
  },
  {
   "metadata": {},
   "cell_type": "code",
   "outputs": [],
   "execution_count": null,
   "source": [
    "%%sql\n",
    "SELECT * FROM users WHERE birth_date > '1990-01-01'"
   ],
   "id": "bd33c11323d4a41e"
  },
  {
   "metadata": {},
   "cell_type": "markdown",
   "source": [
    "SELECT *: Команда выбирает все столбцы из таблицы users.\n",
    "WHERE birth_date > '1990-01-01': Условие, которое фильтрует строки, выбирая только тех пользователей, чья дата рождения позже 1 января 1990 года."
   ],
   "id": "81b706137db90b6f"
  },
  {
   "metadata": {},
   "cell_type": "markdown",
   "source": [
    "Столбцы определяют структуру данных, а строки содержат фактические значения.\n",
    "Каждая строка должна соответствовать структуре, определенной столбцами.\n",
    "SQL позволяет манипулировать данными с помощью запросов, используя операторы SELECT, INSERT, UPDATE, DELETE и другие."
   ],
   "id": "55ac2960589a18e4"
  },
  {
   "metadata": {},
   "cell_type": "markdown",
   "source": [
    "Основные типы SQL-операций:\n",
    "\n",
    "SQL-операции обычно разделяют на несколько категорий:\n",
    "\n",
    "DQL (Data Query Language) — Язык запросов данных:"
   ],
   "id": "89623b013fad9606"
  },
  {
   "metadata": {},
   "cell_type": "code",
   "outputs": [],
   "execution_count": null,
   "source": [
    "%%sql\n",
    "SELECT * FROM products LIMIT 10 OFFSET 20; # выбирает 10 товаров, начиная с 21\n",
    "SELECT DISTINCT category From products; # выбирает только уникальные значения категорий\n",
    "SELECT: Используется для выборки данных из одной или нескольких таблиц.\n",
    "\n",
    "SELECT column1, column2 FROM table_name WHERE condition;\n",
    "column1, column2: Список столбцов, которые вы хотите выбрать. * для выбора всех столбцов.\n",
    "table_name: Имя таблицы, из которой вы хотите выбрать данные.\n",
    "WHERE condition: Необязательное условие для фильтрации данных.\n",
    "FROM: Указывает, из какой таблицы или таблиц нужно выбрать данные.\n",
    "WHERE: Фильтрует строки, которые должны быть возвращены на основе заданного условия.\n",
    "ORDER BY: Сортирует результаты по одному или нескольким столбцам.\n",
    "\n",
    "SELECT * FROM products ORDER BY price DESC; -- Сортирует по убыванию цены\n",
    "SELECT * FROM products ORDER BY name ASC; -- Сортирует по возрастанию имени\n",
    "\n",
    "GROUP BY: Группирует строки с одинаковыми значениями в указанном столбце(ах).\n",
    "\n",
    "SELECT category, COUNT(*) FROM products GROUP BY category; -- Считает количество товаров в каждой категории\n",
    "\n",
    "HAVING: Фильтрует группы, созданные с помощью GROUP BY, на основе заданного условия.\n",
    "SELECT category, COUNT(*) FROM products GROUP BY category HAVING COUNT(*) > 5; --  Выбирает категории с более чем 5 товарами\n",
    "\n",
    "JOIN: Позволяет объединять данные из двух или более таблиц на основе связанных столбцов.\n",
    "SELECT orders.order_id, customers.customer_name\n",
    "FROM orders\n",
    "INNER JOIN customers ON orders.customer_id = customers.customer_id;\n",
    "INNER JOIN: Возвращает только строки, у которых есть совпадения в обеих таблицах.\n",
    "LEFT JOIN: Возвращает все строки из левой таблицы и совпадения из правой.\n",
    "RIGHT JOIN: Возвращает все строки из правой таблицы и совпадения из левой.\n",
    "FULL JOIN: Возвращает все строки, если есть совпадения в одной из таблиц.\n",
    "\n",
    "LIMIT: Ограничивает количество строк, возвращаемых запросом.\n",
    "SELECT * FROM products LIMIT 10; -- Выбирает первые 10 товаров\n",
    "OFFSET: Пропускает определенное количество строк перед тем, как вернуть данные.\n",
    "DISTINCT: Возвращает только уникальные значения из указанного столбца(ов).\n",
    "\n",
    "DML (Data Manipulation Language) — Язык манипулирования данными:\n",
    "\n",
    "INSERT: Используется для добавления новых строк в таблицу.\n",
    "INSERT INTO table_name (column1, column2) VALUES (value1, value2);\n",
    "UPDATE: Используется для изменения существующих данных в таблице.\n",
    "UPDATE table_name SET column1 = value1 WHERE condition;\n",
    "DELETE: Используется для удаления строк из таблицы.\n",
    "DELETE FROM table_name WHERE condition;\n",
    "\n",
    "DDL (Data Definition Language) — Язык определения данных:\n",
    "\n",
    "CREATE: Используется для создания объектов базы данных, таких как таблицы, индексы, представления и т.д.\n",
    "\n",
    "CREATE TABLE: Создание таблицы.\n",
    "CREATE TABLE users (\n",
    "    user_id INT PRIMARY KEY,\n",
    "    username VARCHAR(50),\n",
    "    email VARCHAR(100)\n",
    ");\n",
    "\n",
    "CREATE INDEX: Создание индекса.\n",
    "CREATE INDEX idx_username ON users(username);\n",
    "CREATE DATABASE: Создание базы данных.\n",
    "CREATE DATABASE mydatabase;\n",
    "ALTER: Используется для изменения структуры объектов базы данных.\n",
    "ALTER TABLE: Изменение таблицы, например добавление или удаление столбца.\n",
    "ALTER TABLE users ADD COLUMN first_name VARCHAR(50);\n",
    "ALTER TABLE users DROP COLUMN last_name;\n",
    "DROP: Используется для удаления объектов базы данных, таких как таблицы, индексы, представления и т.д.\n",
    "DROP TABLE: Удаление таблицы.\n",
    "DROP TABLE users;\n",
    "DROP DATABASE: Удаление базы данных.\n",
    "DROP DATABASE mydatabase;\n",
    "TRUNCATE: Используется для удаления всех данных из таблицы, но не удаляет саму таблицу.\n",
    "TRUNCATE TABLE users;"
   ],
   "id": "955f60b6a4064884"
  }
 ],
 "metadata": {
  "kernelspec": {
   "display_name": "Python 3",
   "language": "python",
   "name": "python3"
  },
  "language_info": {
   "codemirror_mode": {
    "name": "ipython",
    "version": 2
   },
   "file_extension": ".py",
   "mimetype": "text/x-python",
   "name": "python",
   "nbconvert_exporter": "python",
   "pygments_lexer": "ipython2",
   "version": "2.7.6"
  }
 },
 "nbformat": 4,
 "nbformat_minor": 5
}
